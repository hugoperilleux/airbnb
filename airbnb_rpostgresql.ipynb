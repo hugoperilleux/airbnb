{
 "cells": [
  {
   "cell_type": "code",
   "execution_count": 2,
   "metadata": {},
   "outputs": [
    {
     "name": "stdout",
     "output_type": "stream",
     "text": [
      "Entrer le mot de passe········\n"
     ]
    },
    {
     "data": {
      "text/plain": [
       "<PostgreSQLConnection>"
      ]
     },
     "metadata": {},
     "output_type": "display_data"
    }
   ],
   "source": [
    "  library(RPostgreSQL)\n",
    "  library(getPass)\n",
    "  library(DBI)\n",
    "  pgdrv <- dbDriver(drvName = \"PostgreSQL\")\n",
    "   con <- dbConnect( pgdrv,\n",
    "                   host = \"tomahawk-postgresql.ulb.ac.be\", \n",
    "                   dbname = \"hugo\",\n",
    "                   user= \"hugo\",\n",
    "                   port= \"5432\",\n",
    "                   password = getPass(\"Entrer le mot de passe\"))\n",
    "  con\n",
    "  \n",
    "  "
   ]
  },
  {
   "cell_type": "code",
   "execution_count": null,
   "metadata": {},
   "outputs": [],
   "source": []
  }
 ],
 "metadata": {
  "kernelspec": {
   "display_name": "R",
   "language": "R",
   "name": "ir"
  },
  "language_info": {
   "codemirror_mode": "r",
   "file_extension": ".r",
   "mimetype": "text/x-r-source",
   "name": "R",
   "pygments_lexer": "r",
   "version": "3.5.2"
  }
 },
 "nbformat": 4,
 "nbformat_minor": 2
}
